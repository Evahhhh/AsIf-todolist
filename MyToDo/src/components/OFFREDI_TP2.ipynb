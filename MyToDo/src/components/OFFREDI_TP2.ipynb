{
 "cells": [
  {
   "cell_type": "markdown",
   "metadata": {},
   "source": [
    "# R1.04 Méthodes d'optimisation\n",
    "\n",
    "# TP2 A\n",
    "\n",
    "\n",
    "_Thibault Godin & Lucie Naert_\n",
    "\n",
    "_IUT de Vannes, BUT Informatique_\n",
    "\n",
    "\n",
    "\n",
    "# $\\mathbf{SAT}$ solver"
   ]
  },
  {
   "cell_type": "code",
   "execution_count": null,
   "metadata": {},
   "outputs": [],
   "source": []
  },
  {
   "cell_type": "markdown",
   "metadata": {},
   "source": [
    " "
   ]
  },
  {
   "cell_type": "code",
   "execution_count": null,
   "metadata": {},
   "outputs": [
    {
     "ename": "ModuleNotFoundError",
     "evalue": "No module named 'pycosat'",
     "output_type": "error",
     "traceback": [
      "\u001b[1;31m---------------------------------------------------------------------------\u001b[0m",
      "\u001b[1;31mModuleNotFoundError\u001b[0m                       Traceback (most recent call last)",
      "\u001b[1;32mc:\\Users\\eve-a\\OneDrive\\Documents\\IUT_Vannes\\BUT2\\Semestre4\\Optimisation\\OFFREDI_TP2.ipynb Cellule 4\u001b[0m in \u001b[0;36m2\n\u001b[0;32m      <a href='vscode-notebook-cell:/c%3A/Users/eve-a/OneDrive/Documents/IUT_Vannes/BUT2/Semestre4/Optimisation/OFFREDI_TP2.ipynb#W2sZmlsZQ%3D%3D?line=0'>1</a>\u001b[0m \u001b[39mimport\u001b[39;00m \u001b[39mnumpy\u001b[39;00m \u001b[39mas\u001b[39;00m \u001b[39mnp\u001b[39;00m \n\u001b[1;32m----> <a href='vscode-notebook-cell:/c%3A/Users/eve-a/OneDrive/Documents/IUT_Vannes/BUT2/Semestre4/Optimisation/OFFREDI_TP2.ipynb#W2sZmlsZQ%3D%3D?line=1'>2</a>\u001b[0m \u001b[39mimport\u001b[39;00m \u001b[39mpycosat\u001b[39;00m\n\u001b[0;32m      <a href='vscode-notebook-cell:/c%3A/Users/eve-a/OneDrive/Documents/IUT_Vannes/BUT2/Semestre4/Optimisation/OFFREDI_TP2.ipynb#W2sZmlsZQ%3D%3D?line=2'>3</a>\u001b[0m \u001b[39mimport\u001b[39;00m \u001b[39mitertools\u001b[39;00m\n\u001b[0;32m      <a href='vscode-notebook-cell:/c%3A/Users/eve-a/OneDrive/Documents/IUT_Vannes/BUT2/Semestre4/Optimisation/OFFREDI_TP2.ipynb#W2sZmlsZQ%3D%3D?line=3'>4</a>\u001b[0m \u001b[39mimport\u001b[39;00m \u001b[39msys\u001b[39;00m\u001b[39m,\u001b[39m \u001b[39mgetopt\u001b[39;00m \n",
      "\u001b[1;31mModuleNotFoundError\u001b[0m: No module named 'pycosat'"
     ]
    }
   ],
   "source": [
    "import numpy as np \n",
    "import pycosat\n",
    "import itertools\n",
    "import sys, getopt \n",
    "import time\n",
    "from pprint import pprint"
   ]
  },
  {
   "cell_type": "markdown",
   "metadata": {},
   "source": [
    "*********\n",
    "\n",
    "# $\\mathbf{ SAT}$\n",
    "\n",
    "\n",
    "En première année, vous avez vu les concepts d'assertions et de formules (booléennes) logiques. Par exemple la formule\n",
    "\n",
    "$$A :=  (\\neg P \\wedge Q) \\vee  (P\\wedge \\neg Q) $$\n",
    "\n",
    "\n",
    "qui a pour table de vérité <a name=\"cite_ref-1\"></a>[<sup>[1]</sup>](#cite_note-1) :\n",
    "\n",
    "\n",
    "|P|Q|A|\n",
    "| ------------- |:-------------:| -----:|\n",
    "|V|V|V|\n",
    "|V|F|F|\n",
    "|F|V|F|\n",
    "|F|F|V|\n",
    "\n",
    "\n",
    "Étant donnée une assertion $A$, on dira que l'assertion est _satisfaisable_ (satisfiable) s'il existe des valeurs de vérités pour les variables atomiques (ici $P$ et $Q$) telle que $A$ soit vraie. Dans notre exemple $A$ est satisfaisable, et un _témoin_ (witness) est le choix de valeurs $P=F$ et $Q=F$. \n",
    "\n",
    "\n",
    "La question _\"étant donnée une assertion logique $A$, déterminer si elle est satisfaisable\"_ est un problème majeur en informatique, appelé [SAT](https://fr.wikipedia.org/wiki/Probl%C3%A8me_SAT)\n",
    "\n",
    "\n",
    "*********\n",
    "\n",
    "\n",
    "**_question 1_**\n",
    "Déterminer si les assertions suivantes sont satisfaisables, et donner un témoin si elle le sont.\n",
    "\n",
    "\n",
    "- $A_1 :=  \\neg (P \\wedge Q) \\vee R $\n",
    "- $A_2 :=  \\neg (P \\wedge Q) \\vee P $\n",
    "- $A_3 :=  \\neg (P \\wedge Q \\wedge \\neg R) \\vee (P \\wedge R)$\n",
    "- $A_4 :=  P \\Longleftrightarrow Q \\vee \\neg(P \\wedge Q) $\n",
    "\n",
    "\n",
    "\n",
    "<a name=\"cite_note-1\"></a>1. [^](#cite_ref-1) On note généralement cet opérateur $P \\Longleftrightarrow Q$\n",
    "\n"
   ]
  },
  {
   "attachments": {},
   "cell_type": "markdown",
   "metadata": {},
   "source": [
    "- $A_1 : P = false, Q = false, R = true$\n",
    "- $A_2 : P = false, Q = true$\n",
    "- $A_3 : P = false, Q = false, R = true$\n",
    "- $A_4 : P = false, Q = false$"
   ]
  },
  {
   "cell_type": "markdown",
   "metadata": {},
   "source": [
    "*********\n",
    "\n",
    "## CNF\n",
    "\n",
    "Pour les problèmes de satisfiabilité, on a généralement un grand nombre de variables booléennes. On les notera généralement $x_1, x_2, \\dots, x_n$, et on dira que $n$ est la _taille_ de l'instance.\n",
    "De plus, on a vu en R1.06 que toute formule peut s'écrire à l'aide des seules opérations $\\neg, \\vee, \\wedge$, et l'on peut même exiger que les $\\neg$ ne porte que sur des propositions atomiques (les $x_i$).\n",
    "\n",
    "*********\n",
    "**_question 2_**\n",
    "\n",
    "Transformer les propositions suivantes de manière à n'utiliser que les opérations $\\neg, \\vee, \\wedge$, et que les $\\neg$ ne porte que sur des propositions atomiques.\n",
    "- $A_1 :=  \\neg (P \\wedge Q) \\vee P $\n",
    "- $A_1 :=  \\neg (P \\wedge Q \\wedge \\neg R) \\vee (P \\wedge R)$\n",
    "- $A_3 := \\neg (P \\Longleftarrow Q)$\n",
    "- $A_4 :=  P \\Longleftrightarrow Q \\vee \\neg(P \\wedge Q) $\n",
    "\n",
    "\n",
    "Pour faciliter la saisie des assertion, on va normaliser un peu plus encore<a name=\"cite_ref-3\"></a>[<sup>[3]</sup>](#cite_note-3) : on va demander à ce que nos formules soient des conjonctions (des \"et\") de disjonctions (des \"ou\") de variables. On appelle cette forme [CNF](https://fr.wikipedia.org/wiki/Forme_normale_conjonctive).\n",
    "\n",
    "Par exemple $(x_1 \\vee x_2 \\vee \\neg x_3) \\wedge (x_1 \\vee x_3)$ et  $(x_1 \\vee \\neg x_5 \\vee x_4) \\wedge (\\neg x_1 \\vee  x_5 \\vee x_3 \\vee x_4) \\wedge (\\neg x_3 \\vee \\neg x_4)$ est en CNF,\n",
    "tandis que $ \\neg(x_1 \\wedge x_2 \\wedge \\neg x_3) \\vee (x_1 \\wedge x_3)$ et $(x_1 \\wedge \\neg x_5 \\wedge x_4) \\vee  (\\neg x_1 \\wedge  x_5 \\wedge x_3 \\wedge x_4) \\vee  (\\neg x_3 \\wedge \\neg x_4)$ (le dernier exemple est en forme normale disjonctive, DNF)\n",
    "\n",
    "\n",
    "On appelera _clause_ les parties entre deux $\\wedge$'s consécutifs.\n",
    "\n",
    "<a name=\"cite_note-3\"></a>2. [^](#cite_ref-3) On peut aller encore plus loin en imposant que la formule soit une disjonction (un \"ou\") de conjonctions (des \"et\") d'au plus $3$ variables. On optient le problème [3-SAT](https://fr.wikipedia.org/wiki/Probl%C3%A8me_3-SAT) qui est équivalent au problème $\\mathbf{SAT}$\n"
   ]
  },
  {
   "attachments": {},
   "cell_type": "markdown",
   "metadata": {},
   "source": [
    "- $A_1 := (\\neg P \\vee \\neg Q) \\vee P$\n",
    "- $A_2 := (\\neg P \\vee \\neg Q \\vee R) \\vee (P \\wedge R)$\n",
    "- $A_3 := \\neg P \\wedge Q$\n",
    "- $A_4 := P \\Longleftrightarrow Q \\vee (\\neg P \\vee \\neg Q)$"
   ]
  },
  {
   "cell_type": "markdown",
   "metadata": {},
   "source": [
    "*********\n",
    "**_question 3_**\n",
    "\n",
    "Mettre les deux derniers exemples en CNF."
   ]
  },
  {
   "attachments": {},
   "cell_type": "markdown",
   "metadata": {},
   "source": [
    "$A_1 := (\\neg P \\vee \\neg Q) \\wedge (P \\vee \\neg Q)$\n",
    "\n",
    "$A_2 := (\\neg P \\vee \\neg Q \\vee R) \\wedge (P \\vee R) \\wedge (\\neg P \\vee \\neg Q \\vee R) \\wedge (\\neg P \\vee R)$\n",
    "\n",
    "$A_3 := (\\neg P \\vee Q) \\wedge (\\neg Q \\vee Q)$\n",
    "\n",
    "$A_4 := (P \\vee Q \\vee \\neg P) \\wedge (P \\vee Q \\vee \\neg Q) \\wedge (\\neg P \\vee P \\vee \\neg Q) \\wedge (\\neg P \\vee \\neg Q \\vee Q)$"
   ]
  },
  {
   "cell_type": "markdown",
   "metadata": {},
   "source": [
    "*********\n",
    "**_question 4_**\n",
    "\n",
    "\n",
    "Essayer de résoudre quelques instances en CNF sur [SAT Game](http://www.cril.univ-artois.fr/~roussel/satgame/satgame.php?level=2&lang=fr)\n",
    "\n",
    "\n",
    "*********"
   ]
  },
  {
   "cell_type": "code",
   "execution_count": null,
   "metadata": {},
   "outputs": [],
   "source": [
    "cnf = [[1, -5, 4], [-1, 5, 3, 4], [-3, -4]]"
   ]
  },
  {
   "attachments": {},
   "cell_type": "markdown",
   "metadata": {},
   "source": [
    "représente la formule \n",
    "\n",
    "\n",
    " $(x_1 \\vee \\neg x_5 \\vee x_4) \\wedge (\\neg x_1 \\vee  x_5 \\vee x_3 \\vee x_4) \\wedge (\\neg x_3 \\vee \\neg x_4)$ \n",
    " \n",
    " \n",
    "Ici, on a 5 variables et 3 clauses, la première clause étant $(x_1 \\vee \\neg x_5 \\vee x_4)$. \n",
    "\n",
    "*********\n",
    "\n",
    "\n",
    "On définit une fonction retournant le nombre de variables et de clauses d'une formule en CNF"
   ]
  },
  {
   "cell_type": "code",
   "execution_count": null,
   "metadata": {},
   "outputs": [
    {
     "data": {
      "text/plain": [
       "(5, 3)"
      ]
     },
     "execution_count": 9,
     "metadata": {},
     "output_type": "execute_result"
    }
   ],
   "source": [
    "def cnflen(cnf):\n",
    "    #returns the number of variables and of clauses of a boolean formula given under CNF\n",
    "    return max([abs(max(max(cnf, key=max))),abs(min(min(cnf, key=min)))]),len(cnf)\n",
    "\n",
    "cnflen(cnf)\n",
    "\n"
   ]
  },
  {
   "cell_type": "markdown",
   "metadata": {},
   "source": [
    "*********\n",
    "\n",
    "# $\\mathbf{SAT}$-Solver\n",
    "\n",
    "\n",
    "\n",
    "La résolution algorithmique d'un problème $\\mathbf{SAT}$ est assez facile : on peut tester tous les cas possibles, jusqu'à ce que l'on trouve un témoin ou que l'on ait essayer toutes les combinaisons. Pour une instance de taille $n$ il \"suffit\" donc de tester $2^n$ cas.\n",
    "\n",
    "\n",
    "*********\n",
    "\n",
    "**_question 5_**\n",
    "\n",
    "\n",
    "Écrire une fonction qui prend en entrée une formule booléenne en CNF à  $n$ variables et un tableau de valeurs booléennes et retourne l'évaluation de la formule sur ces valeurs."
   ]
  },
  {
   "cell_type": "code",
   "execution_count": null,
   "metadata": {},
   "outputs": [
    {
     "name": "stdout",
     "output_type": "stream",
     "text": [
      "(2, 2)\n",
      "True\n"
     ]
    }
   ],
   "source": [
    "def Eval(cnf, wit):\n",
    "    # Obtention du nombre de variables dans la formule CNF\n",
    "    n, c = cnflen(cnf)\n",
    "    \n",
    "    # Évaluation de chaque clause\n",
    "    for clause in cnf:\n",
    "        clause_val = False\n",
    "        for literal in clause:\n",
    "            var = abs(literal)\n",
    "            val = wit[var - 1] if literal > 0 else not wit[var - 1]\n",
    "            clause_val = clause_val or val\n",
    "        if not clause_val:\n",
    "            # Si une clause est fausse, la formule est fausse\n",
    "            return False\n",
    "    \n",
    "    # Si toutes les clauses sont vraies, la formule est vraie\n",
    "    return True\n",
    "\n",
    "\n",
    "#True             \n",
    "wit=[1, 0, 0, 0, 1]               \n",
    "cnf = [[1, -5, 4], [-1, 5, 3, 4], [-3, -4]]\n",
    "Eval(cnf,wit)\n",
    "\n",
    "\n",
    "#False\n",
    "wit=[0, 0, 1, 1, 0]               \n",
    "cnf = [[1, -5, 4], [-1, 5, 3, 4], [-3, -4]]\n",
    "Eval(cnf,wit)\n",
    "\n",
    "\n",
    "print(cnflen([[1],[2]]))\n",
    "print(Eval([[1],[2]],[1,0]))\n"
   ]
  },
  {
   "cell_type": "markdown",
   "metadata": {},
   "source": [
    "*********\n",
    "\n",
    "**_question 6_**\n",
    "\n",
    "\n",
    "Écrire une fonction qui essaie de resoudre une formule en CNF par force-brute (en essayant toutes les possibilités).\n",
    "_on pourra utiliser le module itertool.product de python_\n"
   ]
  },
  {
   "cell_type": "code",
   "execution_count": null,
   "metadata": {},
   "outputs": [
    {
     "name": "stdout",
     "output_type": "stream",
     "text": [
      "-1\n",
      "-1\n",
      "-1\n",
      "-1\n",
      "-1\n"
     ]
    }
   ],
   "source": [
    "def bruteSAT(cnf):\n",
    "    n, c = cnflen(cnf)\n",
    "    for wit in itertools.product([False, True], repeat=n):\n",
    "        if Eval(cnf, wit):\n",
    "            return wit\n",
    "    return None\n",
    "\n",
    "\n",
    "print(bruteSAT(cnf))\n",
    "print(bruteSAT([[1,2]]))\n",
    "print(bruteSAT([[1],[2]]))\n",
    "print(bruteSAT([[1,2],[-1,2],[1,-2]]))\n",
    "print(bruteSAT([[1,2],[-1,2],[1,-2],[-1,-2]]))\n",
    "\n"
   ]
  },
  {
   "attachments": {},
   "cell_type": "markdown",
   "metadata": {},
   "source": [
    "*********\n",
    "\n",
    "## PycoSAT\n",
    "\n",
    "On ne sait pas aujourd'hui s'il existe un algorithme polynômial (_ie_ s'executant en temps raisonnable) pour résoudre $\\mathbf{SAT}$. Cependant ce problème, bien qu'abstrait et théorique, est central en informatique ;  et on peut résoudre beaucoup de problèmes (semblant pourtant complétement différent) en les traduisant en des formules logiques.\n",
    "On verra partie 2 l'exemple du Sudoku, mais bien d'autre (3-coloration, emplois du temps ...) pourraient être ainsi résolus <a name=\"cite_ref-2\"></a>[<sup>[2]</sup>](#cite_note-2) de [problèmes](https://fr.wikipedia.org/wiki/Liste_de_probl%C3%A8mes_NP-complets) se réduisent (_ie_ peuvent être résolus grâce) à $\\mathbf{SAT}$ (plus précisément à $\\mathbf{3-SAT}$, qui [sert de référence](https://fr.wikipedia.org/wiki/Probl%C3%A8me_3-SAT) pour la [$\\mathbf{NP}$-complétude](https://fr.wikipedia.org/wiki/Probl%C3%A8me_NP-complet))\n",
    "\n",
    "\n",
    "\n",
    "\n",
    "\n",
    "<a name=\"cite_note-2\"></a>2. [^](#cite_ref-2) les problèmes polynomiaux peuvent aussi être résolu par $\\mathbf{SAT}$, ce n'est cependant pas pertinent pusiqu'ils sont justement polynomiaux tandis que $\\mathbf{SAT}$ peut être exponentiel (sauf si $\\mathbf{P} = \\mathbf{NP})$\n",
    "\n",
    "*********"
   ]
  },
  {
   "cell_type": "markdown",
   "metadata": {},
   "source": [
    "\n",
    "En raison de cette importance, de nombreuses personnes cherchent à optimiser la résolution de formule, en créant des[SAT-Solver](https://en.wikipedia.org/wiki/SAT_solver) les plus efficaces possibles.\n",
    "\n",
    "Dans ce TP, nous allons utiliser **pycosat**\n",
    "https://pypi.org/project/pycosat/\n",
    "\n",
    "La syntaxe de pycosat est légérement différente de la notre, comme le montre l'exemple suivant :\n"
   ]
  },
  {
   "cell_type": "code",
   "execution_count": null,
   "metadata": {},
   "outputs": [
    {
     "data": {
      "text/plain": [
       "[1, -2, -3, -4, 5]"
      ]
     },
     "execution_count": 12,
     "metadata": {},
     "output_type": "execute_result"
    }
   ],
   "source": [
    "pycosat.solve(cnf)"
   ]
  },
  {
   "cell_type": "markdown",
   "metadata": {},
   "source": [
    "*********\n",
    "\n",
    "\n",
    "# Sudoku\n",
    "\n",
    "\n",
    "Le problème général (sur une grille $n\\times n$) du sudoku est $\\mathbf{NP}$-complet, on ne connait pas d'algorithme efficace pour le résoudre.\n",
    "Une approche classique de résolution est le _backtracking_, nous allons de nôtre côté utiliser pycosat.\n",
    "\n",
    "On se donne quelques grilles d'exemple (vous pouvez créer les vôtres)."
   ]
  },
  {
   "cell_type": "code",
   "execution_count": null,
   "metadata": {},
   "outputs": [],
   "source": [
    "\n",
    "\n",
    "\n",
    "easy = [[0, 0, 0, 1, 0, 9, 4, 2, 7],\n",
    "        [1, 0, 9, 8, 0, 0, 0, 0, 6],\n",
    "        [0, 0, 7, 0, 5, 0, 1, 0, 8],\n",
    "        [0, 5, 6, 0, 0, 0, 0, 8, 2],\n",
    "        [0, 0, 0, 0, 2, 0, 0, 0, 0],\n",
    "        [9, 4, 0, 0, 0, 0, 6, 1, 0],\n",
    "        [7, 0, 4, 0, 6, 0, 9, 0, 0],\n",
    "        [6, 0, 0, 0, 0, 8, 2, 0, 5],\n",
    "        [2, 9, 5, 3, 0, 1, 0, 0, 0]]\n",
    "\n",
    "medium = [[5, 8, 0, 0, 0, 1, 0, 0, 0],\n",
    "        [0, 3, 0, 0, 6, 0, 0, 7, 0],\n",
    "        [9, 0, 0, 3, 2, 0, 1, 0, 6],\n",
    "        [0, 0, 0, 0, 0, 0, 0, 5, 0],\n",
    "        [3, 0, 9, 0, 0, 0, 2, 0, 1],\n",
    "        [0, 5, 0, 0, 0, 0, 0, 0, 0],\n",
    "        [6, 0, 2, 0, 5, 7, 0, 0, 8],\n",
    "        [0, 4, 0, 0, 8, 0, 0, 1, 0],\n",
    "        [0, 0, 0, 1, 0, 0, 0, 6, 5]]\n",
    "\n",
    "evil = [[0, 2, 0, 0, 0, 0, 0, 0, 0],\n",
    "        [0, 0, 0, 6, 0, 0, 0, 0, 3],\n",
    "        [0, 7, 4, 0, 8, 0, 0, 0, 0],\n",
    "        [0, 0, 0, 0, 0, 3, 0, 0, 2],\n",
    "        [0, 8, 0, 0, 4, 0, 0, 1, 0],\n",
    "        [6, 0, 0, 5, 0, 0, 0, 0, 0],\n",
    "        [0, 0, 0, 0, 1, 0, 7, 8, 0],\n",
    "        [5, 0, 0, 0, 0, 9, 0, 0, 0],\n",
    "        [0, 0, 0, 0, 0, 0, 0, 4, 0]]\n",
    "\n",
    "hard = [[0, 2, 0, 0, 0, 0, 0, 3, 0],\n",
    "        [0, 0, 0, 6, 0, 1, 0, 0, 0],\n",
    "        [0, 6, 8, 2, 0, 0, 0, 0, 5],\n",
    "        [0, 0, 9, 0, 0, 8, 3, 0, 0],\n",
    "        [0, 4, 6, 0, 0, 0, 7, 5, 0],\n",
    "        [0, 0, 1, 3, 0, 0, 4, 0, 0],\n",
    "        [9, 0, 0, 0, 0, 7, 5, 1, 0],\n",
    "        [0, 0, 0, 1, 0, 4, 0, 0, 0],\n",
    "        [0, 1, 0, 0, 0, 0, 0, 9, 0]]\n",
    "\n",
    "blank = [[0, 0, 0, 0, 0, 0, 0, 0, 0],\n",
    "        [0, 0, 0, 0, 0, 0, 0, 0, 0],\n",
    "        [0, 0, 0, 0, 0, 0, 0, 0, 0],\n",
    "        [0, 0, 0, 0, 0, 0, 0, 0, 0],\n",
    "        [0, 0, 0, 0, 0, 0, 0, 0, 0],\n",
    "        [0, 0, 0, 0, 0, 0, 0, 0, 0],\n",
    "        [0, 0, 0, 0, 0, 0, 0, 0, 0],\n",
    "        [0, 0, 0, 0, 0, 0, 0, 0, 0],\n",
    "        [0, 0, 0, 0, 0, 0, 0, 0, 0]]\n",
    "    \n",
    "\n",
    "\n"
   ]
  },
  {
   "cell_type": "markdown",
   "metadata": {},
   "source": [
    "On va encoder une grille de la manière suivante : \n",
    "la variable $v_{(i,j,d)}$ représente \"la cellule ligne $i$ colonne $j$ contient le chiffre $d$\". Malheuresement c'est une représentation $3$d, et nos CNF sont $1$d, on va donc faire la transformation\n",
    "\n",
    "$v_{(i,j,d)} \\leadsto x_{81*(i-1) + 9*(j-1) + d}$\n"
   ]
  },
  {
   "cell_type": "code",
   "execution_count": null,
   "metadata": {},
   "outputs": [],
   "source": [
    " \n",
    "\n",
    "    \n",
    "\n",
    "#variable \"the cell i,j contains digit d\"\n",
    "#example:  340 -> 81*(5-1) + 9*(2-1) + 7 means cell at row 5 and column 2 contains a 7\n",
    "\n",
    "def v(i, j, d): \n",
    "    return 81 * (i - 1) + 9 * (j - 1) + d\n",
    "\n",
    "\n",
    "def read_cell(sol,i, j):\n",
    "    # return the digit of cell i, j according to the solution\n",
    "    for d in range(1, 10):\n",
    "        if v(i, j, d) in sol:\n",
    "            return d"
   ]
  },
  {
   "cell_type": "markdown",
   "metadata": {},
   "source": [
    "**_question 7_**\n",
    "\n",
    "Écrire une fonction qui créé la CNF \"sudoku\" (sans contraintes)"
   ]
  },
  {
   "cell_type": "code",
   "execution_count": null,
   "metadata": {},
   "outputs": [],
   "source": [
    "        \n",
    "        \n",
    "def clause(res,cells):\n",
    "    #add clauses to res such that each cell in cells has a diff value\n",
    "    for i, xi in enumerate(cells):\n",
    "        for j, xj in enumerate(cells):\n",
    "            if i < j:\n",
    "                for d in range(1, 10):\n",
    "                    res.append([-v(xi[0], xi[1], d), -v(xj[0], xj[1], d)])\n",
    "\n",
    "        \n",
    "    return res"
   ]
  },
  {
   "cell_type": "code",
   "execution_count": null,
   "metadata": {},
   "outputs": [],
   "source": [
    "def v(i, j, d):\n",
    "    #helper function to convert a (row, col, digit) tuple to a corresponding integer\n",
    "    return (i-1)*81 + (j-1)*9 + (d-1) + 1\n",
    "\n",
    "\n",
    "def sudoku_clauses(): \n",
    "    res = []\n",
    "    \n",
    "    # each cell contains at least one digit\n",
    "    for i in range(1, 10):\n",
    "        for j in range(1, 10):\n",
    "            res.append([v(i, j, d) for d in range(1, 10)])\n",
    "\n",
    "    # each digit appears at most once in each row\n",
    "    for i in range(1, 10):\n",
    "        for d in range(1, 10):\n",
    "            for j1 in range(1, 9):\n",
    "                for j2 in range(j1+1, 10):\n",
    "                    res.append([-v(i, j1, d), -v(i, j2, d)])\n",
    "\n",
    "    # each digit appears at most once in each column\n",
    "    for j in range(1, 10):\n",
    "        for d in range(1, 10):\n",
    "            for i1 in range(1, 9):\n",
    "                for i2 in range(i1+1, 10):\n",
    "                    res.append([-v(i1, j, d), -v(i2, j, d)])\n",
    "\n",
    "    # each digit appears at most once in each 3x3 block\n",
    "    for bx in range(0, 3):\n",
    "        for by in range(0, 3):\n",
    "            for d in range(1, 10):\n",
    "                for i_offset in range(0, 3):\n",
    "                    for j_offset in range(0, 3):\n",
    "                        i = 3*bx + i_offset + 1\n",
    "                        j = 3*by + j_offset + 1\n",
    "                        for i2_offset in range(0, 3):\n",
    "                            for j2_offset in range(0, 3):\n",
    "                                if i_offset == i2_offset and j_offset == j2_offset:\n",
    "                                    continue\n",
    "                                i2 = 3*bx + i2_offset + 1\n",
    "                                j2 = 3*by + j2_offset + 1\n",
    "                                res.append([-v(i, j, d), -v(i2, j2, d)])\n",
    "\n",
    "    return res\n",
    "\n",
    "\n",
    "def gridToCNF(grid=blank):\n",
    "    #turns a grid into a CNF\n",
    "    clauses = sudoku_clauses()\n",
    "    \n",
    "    # add clauses to enforce the given cells\n",
    "    for i in range(1, 10):\n",
    "        for j in range(1, 10):\n",
    "            d = grid[i-1][j-1]\n",
    "            if d != 0:\n",
    "                clauses.append([v(i, j, d)])\n",
    "    \n",
    "    return clauses\n",
    "\n",
    "\n",
    "def solve(grid=blank):\n",
    "\n",
    "    # solve the SAT problem\n",
    "    \n",
    "    clauses =gridToCNF(grid)\n",
    "    start = time.time()\n",
    "    sol = set(pycosat.solve(clauses))\n",
    "    end = time.time()\n",
    "    print(\"Time: \"+str(end - start))\n",
    "    \n",
    "\n",
    "\n",
    "    for i in range(1, 10):\n",
    "        for j in range(1, 10):\n",
    "            grid[i - 1][j - 1] = read_cell(sol,i, j)\n",
    "\n",
    "            \n",
    "            \n",
    "def solve_problem(problemset):\n",
    "    print('Problem:') \n",
    "    pprint(problemset)  \n",
    "    solve(problemset) \n",
    "    print('Answer:')\n",
    "    pprint(problemset) "
   ]
  },
  {
   "cell_type": "code",
   "execution_count": null,
   "metadata": {},
   "outputs": [
    {
     "name": "stdout",
     "output_type": "stream",
     "text": [
      "Problem:\n",
      "[[0, 2, 0, 0, 0, 0, 0, 3, 0],\n",
      " [0, 0, 0, 6, 0, 1, 0, 0, 0],\n",
      " [0, 6, 8, 2, 0, 0, 0, 0, 5],\n",
      " [0, 0, 9, 0, 0, 8, 3, 0, 0],\n",
      " [0, 4, 6, 0, 0, 0, 7, 5, 0],\n",
      " [0, 0, 1, 3, 0, 0, 4, 0, 0],\n",
      " [9, 0, 0, 0, 0, 7, 5, 1, 0],\n",
      " [0, 0, 0, 1, 0, 4, 0, 0, 0],\n",
      " [0, 1, 0, 0, 0, 0, 0, 9, 0]]\n",
      "Time: 1.7881393432617188e-05\n",
      "Answer:\n",
      "[[None, None, None, None, None, None, None, None, None],\n",
      " [None, None, None, None, None, None, None, None, None],\n",
      " [None, None, None, None, None, None, None, None, None],\n",
      " [None, None, None, None, None, None, None, None, None],\n",
      " [None, None, None, None, None, None, None, None, None],\n",
      " [None, None, None, None, None, None, None, None, None],\n",
      " [None, None, None, None, None, None, None, None, None],\n",
      " [None, None, None, None, None, None, None, None, None],\n",
      " [None, None, None, None, None, None, None, None, None]]\n"
     ]
    }
   ],
   "source": [
    "solve_problem(hard)\n"
   ]
  },
  {
   "cell_type": "code",
   "execution_count": null,
   "metadata": {},
   "outputs": [
    {
     "name": "stdout",
     "output_type": "stream",
     "text": [
      "Time: 7.581710815429688e-05\n"
     ]
    }
   ],
   "source": [
    "pblm = gridToCNF(blank)\n",
    "\n",
    "start = time.time()\n",
    "sol = set(pycosat.solve(pblm))\n",
    "end = time.time()\n",
    "print(\"Time: \"+str(end - start))"
   ]
  },
  {
   "cell_type": "code",
   "execution_count": null,
   "metadata": {},
   "outputs": [
    {
     "ename": "ValueError",
     "evalue": "max() arg is an empty sequence",
     "output_type": "error",
     "traceback": [
      "\u001b[0;31m---------------------------------------------------------------------------\u001b[0m",
      "\u001b[0;31mValueError\u001b[0m                                Traceback (most recent call last)",
      "\u001b[0;32m<ipython-input-19-6ec8b1014594>\u001b[0m in \u001b[0;36m<module>\u001b[0;34m\u001b[0m\n\u001b[1;32m      1\u001b[0m \u001b[0mstart\u001b[0m \u001b[0;34m=\u001b[0m \u001b[0mtime\u001b[0m\u001b[0;34m.\u001b[0m\u001b[0mtime\u001b[0m\u001b[0;34m(\u001b[0m\u001b[0;34m)\u001b[0m\u001b[0;34m\u001b[0m\u001b[0;34m\u001b[0m\u001b[0m\n\u001b[0;32m----> 2\u001b[0;31m \u001b[0msol\u001b[0m \u001b[0;34m=\u001b[0m \u001b[0mbruteSAT\u001b[0m\u001b[0;34m(\u001b[0m\u001b[0mpblm\u001b[0m\u001b[0;34m)\u001b[0m\u001b[0;34m\u001b[0m\u001b[0;34m\u001b[0m\u001b[0m\n\u001b[0m\u001b[1;32m      3\u001b[0m \u001b[0mend\u001b[0m \u001b[0;34m=\u001b[0m \u001b[0mtime\u001b[0m\u001b[0;34m.\u001b[0m\u001b[0mtime\u001b[0m\u001b[0;34m(\u001b[0m\u001b[0;34m)\u001b[0m\u001b[0;34m\u001b[0m\u001b[0;34m\u001b[0m\u001b[0m\n\u001b[1;32m      4\u001b[0m \u001b[0mprint\u001b[0m\u001b[0;34m(\u001b[0m\u001b[0;34m\"Time: \"\u001b[0m\u001b[0;34m+\u001b[0m\u001b[0mstr\u001b[0m\u001b[0;34m(\u001b[0m\u001b[0mend\u001b[0m \u001b[0;34m-\u001b[0m \u001b[0mstart\u001b[0m\u001b[0;34m)\u001b[0m\u001b[0;34m)\u001b[0m\u001b[0;34m\u001b[0m\u001b[0;34m\u001b[0m\u001b[0m\n",
      "\u001b[0;32m<ipython-input-11-e864bcf78b30>\u001b[0m in \u001b[0;36mbruteSAT\u001b[0;34m(cnf)\u001b[0m\n\u001b[1;32m      4\u001b[0m \u001b[0;34m\u001b[0m\u001b[0m\n\u001b[1;32m      5\u001b[0m \u001b[0;32mdef\u001b[0m \u001b[0mbruteSAT\u001b[0m\u001b[0;34m(\u001b[0m\u001b[0mcnf\u001b[0m\u001b[0;34m)\u001b[0m\u001b[0;34m:\u001b[0m\u001b[0;34m\u001b[0m\u001b[0;34m\u001b[0m\u001b[0m\n\u001b[0;32m----> 6\u001b[0;31m     \u001b[0mn\u001b[0m\u001b[0;34m,\u001b[0m\u001b[0mc\u001b[0m\u001b[0;34m=\u001b[0m\u001b[0mcnflen\u001b[0m\u001b[0;34m(\u001b[0m\u001b[0mcnf\u001b[0m\u001b[0;34m)\u001b[0m\u001b[0;34m\u001b[0m\u001b[0;34m\u001b[0m\u001b[0m\n\u001b[0m\u001b[1;32m      7\u001b[0m \u001b[0;34m\u001b[0m\u001b[0m\n\u001b[1;32m      8\u001b[0m     \u001b[0;32mreturn\u001b[0m \u001b[0;34m-\u001b[0m\u001b[0;36m1\u001b[0m\u001b[0;34m\u001b[0m\u001b[0;34m\u001b[0m\u001b[0m\n",
      "\u001b[0;32m<ipython-input-9-882a4b79af7d>\u001b[0m in \u001b[0;36mcnflen\u001b[0;34m(cnf)\u001b[0m\n\u001b[1;32m      1\u001b[0m \u001b[0;32mdef\u001b[0m \u001b[0mcnflen\u001b[0m\u001b[0;34m(\u001b[0m\u001b[0mcnf\u001b[0m\u001b[0;34m)\u001b[0m\u001b[0;34m:\u001b[0m\u001b[0;34m\u001b[0m\u001b[0;34m\u001b[0m\u001b[0m\n\u001b[1;32m      2\u001b[0m     \u001b[0;31m#returns the number of variables and of clauses of a boolean formula given under CNF\u001b[0m\u001b[0;34m\u001b[0m\u001b[0;34m\u001b[0m\u001b[0;34m\u001b[0m\u001b[0m\n\u001b[0;32m----> 3\u001b[0;31m     \u001b[0;32mreturn\u001b[0m \u001b[0mmax\u001b[0m\u001b[0;34m(\u001b[0m\u001b[0;34m[\u001b[0m\u001b[0mabs\u001b[0m\u001b[0;34m(\u001b[0m\u001b[0mmax\u001b[0m\u001b[0;34m(\u001b[0m\u001b[0mmax\u001b[0m\u001b[0;34m(\u001b[0m\u001b[0mcnf\u001b[0m\u001b[0;34m,\u001b[0m \u001b[0mkey\u001b[0m\u001b[0;34m=\u001b[0m\u001b[0mmax\u001b[0m\u001b[0;34m)\u001b[0m\u001b[0;34m)\u001b[0m\u001b[0;34m)\u001b[0m\u001b[0;34m,\u001b[0m\u001b[0mabs\u001b[0m\u001b[0;34m(\u001b[0m\u001b[0mmin\u001b[0m\u001b[0;34m(\u001b[0m\u001b[0mmin\u001b[0m\u001b[0;34m(\u001b[0m\u001b[0mcnf\u001b[0m\u001b[0;34m,\u001b[0m \u001b[0mkey\u001b[0m\u001b[0;34m=\u001b[0m\u001b[0mmin\u001b[0m\u001b[0;34m)\u001b[0m\u001b[0;34m)\u001b[0m\u001b[0;34m)\u001b[0m\u001b[0;34m]\u001b[0m\u001b[0;34m)\u001b[0m\u001b[0;34m,\u001b[0m\u001b[0mlen\u001b[0m\u001b[0;34m(\u001b[0m\u001b[0mcnf\u001b[0m\u001b[0;34m)\u001b[0m\u001b[0;34m\u001b[0m\u001b[0;34m\u001b[0m\u001b[0m\n\u001b[0m\u001b[1;32m      4\u001b[0m \u001b[0;34m\u001b[0m\u001b[0m\n\u001b[1;32m      5\u001b[0m \u001b[0mcnflen\u001b[0m\u001b[0;34m(\u001b[0m\u001b[0mcnf\u001b[0m\u001b[0;34m)\u001b[0m\u001b[0;34m\u001b[0m\u001b[0;34m\u001b[0m\u001b[0m\n",
      "\u001b[0;31mValueError\u001b[0m: max() arg is an empty sequence"
     ]
    }
   ],
   "source": [
    "start = time.time()\n",
    "sol = bruteSAT(pblm)\n",
    "end = time.time()\n",
    "print(\"Time: \"+str(end - start))"
   ]
  },
  {
   "cell_type": "markdown",
   "metadata": {},
   "source": [
    "## Multiple solutions\n",
    "\n",
    "\n"
   ]
  },
  {
   "cell_type": "code",
   "execution_count": null,
   "metadata": {},
   "outputs": [
    {
     "name": "stdout",
     "output_type": "stream",
     "text": [
      "[1, -2, -3, -4, 5]\n",
      "[1, -2, -3, 4, -5]\n",
      "[1, -2, -3, 4, 5]\n",
      "[1, -2, 3, -4, -5]\n",
      "[1, -2, 3, -4, 5]\n",
      "[1, 2, 3, -4, -5]\n",
      "[1, 2, 3, -4, 5]\n",
      "[1, 2, -3, -4, 5]\n",
      "[1, 2, -3, 4, -5]\n",
      "[1, 2, -3, 4, 5]\n",
      "[-1, 2, -3, 4, -5]\n",
      "[-1, 2, -3, 4, 5]\n",
      "[-1, 2, -3, -4, -5]\n",
      "[-1, 2, 3, -4, -5]\n",
      "[-1, -2, 3, -4, -5]\n",
      "[-1, -2, -3, -4, -5]\n",
      "[-1, -2, -3, 4, 5]\n",
      "[-1, -2, -3, 4, -5]\n"
     ]
    }
   ],
   "source": [
    "for sol in pycosat.itersolve(cnf):\n",
    "    print(sol)"
   ]
  },
  {
   "cell_type": "markdown",
   "metadata": {},
   "source": [
    "### Extensions suggérées :\n",
    "\n",
    "\n",
    "#### Génération aléatoire de grilles (résolubles)\n",
    "\n",
    "à l'aide des algorithmes précédents, écrire une fonction engendrant des grilles partielles de sudoku (résolubles)\n",
    "\n",
    "\n",
    "\n",
    "#### 3-Coloriage\n",
    "\n",
    "De nombreux problèmes importants en informatique (les problèmes inclus dans $\\mathbf{NP}$ sont _réductibles_ à 3-SAT, c'est-à-dire qu'on peut les convertir en un problème 3-SAT et vis-et-versa (en temps polynomial, avec un nombre de d'inconnues polynomial). \n",
    "\n",
    "On peut donc (essayer de) résoudre de nombreux problème avec 3-SAT. Parmi eux la 3-coloration (étant donné un graphe $G$, admet-il une 3 coloration ?)\n",
    "\n",
    "Écrire un programme qui, étant donné un graphe $G$ transforme 3-col en 3-SAT, résout le prolème à l'aide d'un SAT-solver, puis donne la solution en terme de graphe).\n",
    "\n",
    "\n",
    "_note :_ Pour le sens inverse, vous pouvez vous référer à https://cgi.csc.liv.ac.uk/~igor/COMP309/3CP.pdf par exemple"
   ]
  },
  {
   "cell_type": "code",
   "execution_count": null,
   "metadata": {},
   "outputs": [],
   "source": []
  }
 ],
 "metadata": {
  "kernelspec": {
   "display_name": "Python 3",
   "language": "python",
   "name": "python3"
  },
  "language_info": {
   "codemirror_mode": {
    "name": "ipython",
    "version": 3
   },
   "file_extension": ".py",
   "mimetype": "text/x-python",
   "name": "python",
   "nbconvert_exporter": "python",
   "pygments_lexer": "ipython3",
   "version": "3.10.10"
  },
  "vscode": {
   "interpreter": {
    "hash": "d5f9b2b4baaee9da5c9f7cbfe62629c3004ce87921269f30779a3b9159084ff0"
   }
  }
 },
 "nbformat": 4,
 "nbformat_minor": 4
}
